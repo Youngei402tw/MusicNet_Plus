{
 "cells": [
  {
   "cell_type": "code",
   "execution_count": 2,
   "id": "5fc14681-ecc3-48a4-bf68-0eee55d912e8",
   "metadata": {},
   "outputs": [],
   "source": [
    "from transformers import pipeline\n",
    "import numpy as np\n",
    "import pandas as pd\n",
    "from datasets import Dataset, DatasetDict, load_dataset, Audio"
   ]
  },
  {
   "cell_type": "code",
   "execution_count": 35,
   "id": "8155d73a-dd76-42ef-9c30-dd4519206a62",
   "metadata": {},
   "outputs": [
    {
     "name": "stderr",
     "output_type": "stream",
     "text": [
      "C:\\Users\\young\\AppData\\Local\\Temp\\ipykernel_30848\\2260982897.py:12: SettingWithCopyWarning: \n",
      "A value is trying to be set on a copy of a slice from a DataFrame.\n",
      "Try using .loc[row_indexer,col_indexer] = value instead\n",
      "\n",
      "See the caveats in the documentation: https://pandas.pydata.org/pandas-docs/stable/user_guide/indexing.html#returning-a-view-versus-a-copy\n",
      "  mydf['path']=\"MusicNet_Original/MusicNet_Original/\"+mydf['id'].astype(str)+'.wav'\n",
      "C:\\Users\\young\\AppData\\Local\\Temp\\ipykernel_30848\\2260982897.py:12: SettingWithCopyWarning: \n",
      "A value is trying to be set on a copy of a slice from a DataFrame.\n",
      "Try using .loc[row_indexer,col_indexer] = value instead\n",
      "\n",
      "See the caveats in the documentation: https://pandas.pydata.org/pandas-docs/stable/user_guide/indexing.html#returning-a-view-versus-a-copy\n",
      "  mydf['path']=\"MusicNet_Original/MusicNet_Original/\"+mydf['id'].astype(str)+'.wav'\n",
      "C:\\Users\\young\\AppData\\Local\\Temp\\ipykernel_30848\\2260982897.py:12: SettingWithCopyWarning: \n",
      "A value is trying to be set on a copy of a slice from a DataFrame.\n",
      "Try using .loc[row_indexer,col_indexer] = value instead\n",
      "\n",
      "See the caveats in the documentation: https://pandas.pydata.org/pandas-docs/stable/user_guide/indexing.html#returning-a-view-versus-a-copy\n",
      "  mydf['path']=\"MusicNet_Original/MusicNet_Original/\"+mydf['id'].astype(str)+'.wav'\n",
      "C:\\Users\\young\\AppData\\Local\\Temp\\ipykernel_30848\\2260982897.py:12: SettingWithCopyWarning: \n",
      "A value is trying to be set on a copy of a slice from a DataFrame.\n",
      "Try using .loc[row_indexer,col_indexer] = value instead\n",
      "\n",
      "See the caveats in the documentation: https://pandas.pydata.org/pandas-docs/stable/user_guide/indexing.html#returning-a-view-versus-a-copy\n",
      "  mydf['path']=\"MusicNet_Original/MusicNet_Original/\"+mydf['id'].astype(str)+'.wav'\n",
      "C:\\Users\\young\\AppData\\Local\\Temp\\ipykernel_30848\\2260982897.py:12: SettingWithCopyWarning: \n",
      "A value is trying to be set on a copy of a slice from a DataFrame.\n",
      "Try using .loc[row_indexer,col_indexer] = value instead\n",
      "\n",
      "See the caveats in the documentation: https://pandas.pydata.org/pandas-docs/stable/user_guide/indexing.html#returning-a-view-versus-a-copy\n",
      "  mydf['path']=\"MusicNet_Original/MusicNet_Original/\"+mydf['id'].astype(str)+'.wav'\n"
     ]
    },
    {
     "data": {
      "text/plain": [
       "{'Beethoven': ['MusicNet_Original/MusicNet_Original/2313.wav',\n",
       "  'MusicNet_Original/MusicNet_Original/2314.wav',\n",
       "  'MusicNet_Original/MusicNet_Original/2315.wav',\n",
       "  'MusicNet_Original/MusicNet_Original/2318.wav',\n",
       "  'MusicNet_Original/MusicNet_Original/2319.wav',\n",
       "  'MusicNet_Original/MusicNet_Original/2320.wav',\n",
       "  'MusicNet_Original/MusicNet_Original/2322.wav',\n",
       "  'MusicNet_Original/MusicNet_Original/2325.wav',\n",
       "  'MusicNet_Original/MusicNet_Original/2330.wav',\n",
       "  'MusicNet_Original/MusicNet_Original/2334.wav',\n",
       "  'MusicNet_Original/MusicNet_Original/2335.wav',\n",
       "  'MusicNet_Original/MusicNet_Original/2336.wav',\n",
       "  'MusicNet_Original/MusicNet_Original/2341.wav',\n",
       "  'MusicNet_Original/MusicNet_Original/2342.wav',\n",
       "  'MusicNet_Original/MusicNet_Original/2343.wav',\n",
       "  'MusicNet_Original/MusicNet_Original/2345.wav',\n",
       "  'MusicNet_Original/MusicNet_Original/2346.wav',\n",
       "  'MusicNet_Original/MusicNet_Original/2348.wav',\n",
       "  'MusicNet_Original/MusicNet_Original/2350.wav',\n",
       "  'MusicNet_Original/MusicNet_Original/2357.wav',\n",
       "  'MusicNet_Original/MusicNet_Original/2358.wav',\n",
       "  'MusicNet_Original/MusicNet_Original/2359.wav',\n",
       "  'MusicNet_Original/MusicNet_Original/2364.wav',\n",
       "  'MusicNet_Original/MusicNet_Original/2365.wav',\n",
       "  'MusicNet_Original/MusicNet_Original/2366.wav',\n",
       "  'MusicNet_Original/MusicNet_Original/2368.wav',\n",
       "  'MusicNet_Original/MusicNet_Original/2371.wav',\n",
       "  'MusicNet_Original/MusicNet_Original/2372.wav',\n",
       "  'MusicNet_Original/MusicNet_Original/2373.wav',\n",
       "  'MusicNet_Original/MusicNet_Original/2374.wav',\n",
       "  'MusicNet_Original/MusicNet_Original/2376.wav',\n",
       "  'MusicNet_Original/MusicNet_Original/2377.wav',\n",
       "  'MusicNet_Original/MusicNet_Original/2379.wav',\n",
       "  'MusicNet_Original/MusicNet_Original/2381.wav',\n",
       "  'MusicNet_Original/MusicNet_Original/2382.wav',\n",
       "  'MusicNet_Original/MusicNet_Original/2383.wav',\n",
       "  'MusicNet_Original/MusicNet_Original/2384.wav',\n",
       "  'MusicNet_Original/MusicNet_Original/2388.wav',\n",
       "  'MusicNet_Original/MusicNet_Original/2389.wav',\n",
       "  'MusicNet_Original/MusicNet_Original/2390.wav',\n",
       "  'MusicNet_Original/MusicNet_Original/2391.wav',\n",
       "  'MusicNet_Original/MusicNet_Original/2392.wav',\n",
       "  'MusicNet_Original/MusicNet_Original/2393.wav',\n",
       "  'MusicNet_Original/MusicNet_Original/2397.wav',\n",
       "  'MusicNet_Original/MusicNet_Original/2398.wav',\n",
       "  'MusicNet_Original/MusicNet_Original/2403.wav',\n",
       "  'MusicNet_Original/MusicNet_Original/2404.wav',\n",
       "  'MusicNet_Original/MusicNet_Original/2405.wav',\n",
       "  'MusicNet_Original/MusicNet_Original/2406.wav',\n",
       "  'MusicNet_Original/MusicNet_Original/2410.wav',\n",
       "  'MusicNet_Original/MusicNet_Original/2411.wav',\n",
       "  'MusicNet_Original/MusicNet_Original/2415.wav',\n",
       "  'MusicNet_Original/MusicNet_Original/2416.wav',\n",
       "  'MusicNet_Original/MusicNet_Original/2417.wav',\n",
       "  'MusicNet_Original/MusicNet_Original/2420.wav',\n",
       "  'MusicNet_Original/MusicNet_Original/2422.wav',\n",
       "  'MusicNet_Original/MusicNet_Original/2423.wav',\n",
       "  'MusicNet_Original/MusicNet_Original/2424.wav',\n",
       "  'MusicNet_Original/MusicNet_Original/2431.wav',\n",
       "  'MusicNet_Original/MusicNet_Original/2432.wav',\n",
       "  'MusicNet_Original/MusicNet_Original/2433.wav',\n",
       "  'MusicNet_Original/MusicNet_Original/2436.wav',\n",
       "  'MusicNet_Original/MusicNet_Original/2441.wav',\n",
       "  'MusicNet_Original/MusicNet_Original/2442.wav',\n",
       "  'MusicNet_Original/MusicNet_Original/2443.wav',\n",
       "  'MusicNet_Original/MusicNet_Original/2444.wav',\n",
       "  'MusicNet_Original/MusicNet_Original/2451.wav',\n",
       "  'MusicNet_Original/MusicNet_Original/2462.wav',\n",
       "  'MusicNet_Original/MusicNet_Original/2463.wav',\n",
       "  'MusicNet_Original/MusicNet_Original/2466.wav',\n",
       "  'MusicNet_Original/MusicNet_Original/2471.wav',\n",
       "  'MusicNet_Original/MusicNet_Original/2472.wav',\n",
       "  'MusicNet_Original/MusicNet_Original/2473.wav',\n",
       "  'MusicNet_Original/MusicNet_Original/2476.wav',\n",
       "  'MusicNet_Original/MusicNet_Original/2477.wav',\n",
       "  'MusicNet_Original/MusicNet_Original/2478.wav',\n",
       "  'MusicNet_Original/MusicNet_Original/2480.wav',\n",
       "  'MusicNet_Original/MusicNet_Original/2481.wav',\n",
       "  'MusicNet_Original/MusicNet_Original/2482.wav',\n",
       "  'MusicNet_Original/MusicNet_Original/2483.wav',\n",
       "  'MusicNet_Original/MusicNet_Original/2486.wav',\n",
       "  'MusicNet_Original/MusicNet_Original/2487.wav',\n",
       "  'MusicNet_Original/MusicNet_Original/2488.wav',\n",
       "  'MusicNet_Original/MusicNet_Original/2490.wav',\n",
       "  'MusicNet_Original/MusicNet_Original/2491.wav',\n",
       "  'MusicNet_Original/MusicNet_Original/2492.wav',\n",
       "  'MusicNet_Original/MusicNet_Original/2494.wav',\n",
       "  'MusicNet_Original/MusicNet_Original/2497.wav',\n",
       "  'MusicNet_Original/MusicNet_Original/2501.wav',\n",
       "  'MusicNet_Original/MusicNet_Original/2502.wav',\n",
       "  'MusicNet_Original/MusicNet_Original/2504.wav',\n",
       "  'MusicNet_Original/MusicNet_Original/2505.wav',\n",
       "  'MusicNet_Original/MusicNet_Original/2506.wav',\n",
       "  'MusicNet_Original/MusicNet_Original/2507.wav',\n",
       "  'MusicNet_Original/MusicNet_Original/2509.wav',\n",
       "  'MusicNet_Original/MusicNet_Original/2510.wav',\n",
       "  'MusicNet_Original/MusicNet_Original/2512.wav',\n",
       "  'MusicNet_Original/MusicNet_Original/2514.wav',\n",
       "  'MusicNet_Original/MusicNet_Original/2516.wav',\n",
       "  'MusicNet_Original/MusicNet_Original/2521.wav',\n",
       "  'MusicNet_Original/MusicNet_Original/2522.wav',\n",
       "  'MusicNet_Original/MusicNet_Original/2523.wav',\n",
       "  'MusicNet_Original/MusicNet_Original/2527.wav',\n",
       "  'MusicNet_Original/MusicNet_Original/2528.wav',\n",
       "  'MusicNet_Original/MusicNet_Original/2529.wav',\n",
       "  'MusicNet_Original/MusicNet_Original/2530.wav',\n",
       "  'MusicNet_Original/MusicNet_Original/2531.wav',\n",
       "  'MusicNet_Original/MusicNet_Original/2532.wav',\n",
       "  'MusicNet_Original/MusicNet_Original/2533.wav',\n",
       "  'MusicNet_Original/MusicNet_Original/2537.wav',\n",
       "  'MusicNet_Original/MusicNet_Original/2538.wav',\n",
       "  'MusicNet_Original/MusicNet_Original/2540.wav',\n",
       "  'MusicNet_Original/MusicNet_Original/2542.wav',\n",
       "  'MusicNet_Original/MusicNet_Original/2550.wav',\n",
       "  'MusicNet_Original/MusicNet_Original/2555.wav',\n",
       "  'MusicNet_Original/MusicNet_Original/2556.wav',\n",
       "  'MusicNet_Original/MusicNet_Original/2557.wav',\n",
       "  'MusicNet_Original/MusicNet_Original/2560.wav',\n",
       "  'MusicNet_Original/MusicNet_Original/2562.wav',\n",
       "  'MusicNet_Original/MusicNet_Original/2564.wav',\n",
       "  'MusicNet_Original/MusicNet_Original/2566.wav',\n",
       "  'MusicNet_Original/MusicNet_Original/2567.wav',\n",
       "  'MusicNet_Original/MusicNet_Original/2568.wav',\n",
       "  'MusicNet_Original/MusicNet_Original/2570.wav',\n",
       "  'MusicNet_Original/MusicNet_Original/2571.wav',\n",
       "  'MusicNet_Original/MusicNet_Original/2572.wav',\n",
       "  'MusicNet_Original/MusicNet_Original/2573.wav',\n",
       "  'MusicNet_Original/MusicNet_Original/2575.wav',\n",
       "  'MusicNet_Original/MusicNet_Original/2576.wav',\n",
       "  'MusicNet_Original/MusicNet_Original/2581.wav',\n",
       "  'MusicNet_Original/MusicNet_Original/2582.wav',\n",
       "  'MusicNet_Original/MusicNet_Original/2586.wav',\n",
       "  'MusicNet_Original/MusicNet_Original/2588.wav',\n",
       "  'MusicNet_Original/MusicNet_Original/2590.wav',\n",
       "  'MusicNet_Original/MusicNet_Original/2591.wav',\n",
       "  'MusicNet_Original/MusicNet_Original/2593.wav',\n",
       "  'MusicNet_Original/MusicNet_Original/2594.wav',\n",
       "  'MusicNet_Original/MusicNet_Original/2595.wav',\n",
       "  'MusicNet_Original/MusicNet_Original/2596.wav',\n",
       "  'MusicNet_Original/MusicNet_Original/2603.wav',\n",
       "  'MusicNet_Original/MusicNet_Original/2607.wav',\n",
       "  'MusicNet_Original/MusicNet_Original/2608.wav',\n",
       "  'MusicNet_Original/MusicNet_Original/2611.wav',\n",
       "  'MusicNet_Original/MusicNet_Original/2614.wav',\n",
       "  'MusicNet_Original/MusicNet_Original/2618.wav',\n",
       "  'MusicNet_Original/MusicNet_Original/2619.wav',\n",
       "  'MusicNet_Original/MusicNet_Original/2620.wav',\n",
       "  'MusicNet_Original/MusicNet_Original/2621.wav',\n",
       "  'MusicNet_Original/MusicNet_Original/2622.wav',\n",
       "  'MusicNet_Original/MusicNet_Original/2626.wav',\n",
       "  'MusicNet_Original/MusicNet_Original/2627.wav',\n",
       "  'MusicNet_Original/MusicNet_Original/2628.wav',\n",
       "  'MusicNet_Original/MusicNet_Original/2629.wav',\n",
       "  'MusicNet_Original/MusicNet_Original/2632.wav',\n",
       "  'MusicNet_Original/MusicNet_Original/2633.wav',\n",
       "  'MusicNet_Original/MusicNet_Original/2677.wav',\n",
       "  'MusicNet_Original/MusicNet_Original/2678.wav'],\n",
       " 'Bach': ['MusicNet_Original/MusicNet_Original/2186.wav',\n",
       "  'MusicNet_Original/MusicNet_Original/2191.wav',\n",
       "  'MusicNet_Original/MusicNet_Original/2194.wav',\n",
       "  'MusicNet_Original/MusicNet_Original/2195.wav',\n",
       "  'MusicNet_Original/MusicNet_Original/2196.wav',\n",
       "  'MusicNet_Original/MusicNet_Original/2198.wav',\n",
       "  'MusicNet_Original/MusicNet_Original/2200.wav',\n",
       "  'MusicNet_Original/MusicNet_Original/2201.wav',\n",
       "  'MusicNet_Original/MusicNet_Original/2202.wav',\n",
       "  'MusicNet_Original/MusicNet_Original/2203.wav',\n",
       "  'MusicNet_Original/MusicNet_Original/2204.wav',\n",
       "  'MusicNet_Original/MusicNet_Original/2207.wav',\n",
       "  'MusicNet_Original/MusicNet_Original/2208.wav',\n",
       "  'MusicNet_Original/MusicNet_Original/2209.wav',\n",
       "  'MusicNet_Original/MusicNet_Original/2210.wav',\n",
       "  'MusicNet_Original/MusicNet_Original/2211.wav',\n",
       "  'MusicNet_Original/MusicNet_Original/2212.wav',\n",
       "  'MusicNet_Original/MusicNet_Original/2213.wav',\n",
       "  'MusicNet_Original/MusicNet_Original/2214.wav',\n",
       "  'MusicNet_Original/MusicNet_Original/2215.wav',\n",
       "  'MusicNet_Original/MusicNet_Original/2217.wav',\n",
       "  'MusicNet_Original/MusicNet_Original/2218.wav',\n",
       "  'MusicNet_Original/MusicNet_Original/2219.wav',\n",
       "  'MusicNet_Original/MusicNet_Original/2220.wav',\n",
       "  'MusicNet_Original/MusicNet_Original/2221.wav',\n",
       "  'MusicNet_Original/MusicNet_Original/2222.wav',\n",
       "  'MusicNet_Original/MusicNet_Original/2224.wav',\n",
       "  'MusicNet_Original/MusicNet_Original/2225.wav',\n",
       "  'MusicNet_Original/MusicNet_Original/2227.wav',\n",
       "  'MusicNet_Original/MusicNet_Original/2228.wav',\n",
       "  'MusicNet_Original/MusicNet_Original/2229.wav',\n",
       "  'MusicNet_Original/MusicNet_Original/2230.wav',\n",
       "  'MusicNet_Original/MusicNet_Original/2231.wav',\n",
       "  'MusicNet_Original/MusicNet_Original/2232.wav',\n",
       "  'MusicNet_Original/MusicNet_Original/2234.wav',\n",
       "  'MusicNet_Original/MusicNet_Original/2237.wav',\n",
       "  'MusicNet_Original/MusicNet_Original/2238.wav',\n",
       "  'MusicNet_Original/MusicNet_Original/2239.wav',\n",
       "  'MusicNet_Original/MusicNet_Original/2240.wav',\n",
       "  'MusicNet_Original/MusicNet_Original/2241.wav',\n",
       "  'MusicNet_Original/MusicNet_Original/2242.wav',\n",
       "  'MusicNet_Original/MusicNet_Original/2243.wav',\n",
       "  'MusicNet_Original/MusicNet_Original/2244.wav',\n",
       "  'MusicNet_Original/MusicNet_Original/2247.wav',\n",
       "  'MusicNet_Original/MusicNet_Original/2248.wav',\n",
       "  'MusicNet_Original/MusicNet_Original/2282.wav',\n",
       "  'MusicNet_Original/MusicNet_Original/2283.wav',\n",
       "  'MusicNet_Original/MusicNet_Original/2284.wav',\n",
       "  'MusicNet_Original/MusicNet_Original/2285.wav',\n",
       "  'MusicNet_Original/MusicNet_Original/2288.wav',\n",
       "  'MusicNet_Original/MusicNet_Original/2289.wav',\n",
       "  'MusicNet_Original/MusicNet_Original/2292.wav',\n",
       "  'MusicNet_Original/MusicNet_Original/2293.wav',\n",
       "  'MusicNet_Original/MusicNet_Original/2294.wav',\n",
       "  'MusicNet_Original/MusicNet_Original/2295.wav',\n",
       "  'MusicNet_Original/MusicNet_Original/2296.wav',\n",
       "  'MusicNet_Original/MusicNet_Original/2297.wav',\n",
       "  'MusicNet_Original/MusicNet_Original/2298.wav',\n",
       "  'MusicNet_Original/MusicNet_Original/2300.wav',\n",
       "  'MusicNet_Original/MusicNet_Original/2302.wav',\n",
       "  'MusicNet_Original/MusicNet_Original/2303.wav',\n",
       "  'MusicNet_Original/MusicNet_Original/2304.wav',\n",
       "  'MusicNet_Original/MusicNet_Original/2305.wav',\n",
       "  'MusicNet_Original/MusicNet_Original/2307.wav',\n",
       "  'MusicNet_Original/MusicNet_Original/2308.wav',\n",
       "  'MusicNet_Original/MusicNet_Original/2310.wav',\n",
       "  'MusicNet_Original/MusicNet_Original/2659.wav'],\n",
       " 'Schubert': ['MusicNet_Original/MusicNet_Original/1727.wav',\n",
       "  'MusicNet_Original/MusicNet_Original/1728.wav',\n",
       "  'MusicNet_Original/MusicNet_Original/1729.wav',\n",
       "  'MusicNet_Original/MusicNet_Original/1730.wav',\n",
       "  'MusicNet_Original/MusicNet_Original/1733.wav',\n",
       "  'MusicNet_Original/MusicNet_Original/1734.wav',\n",
       "  'MusicNet_Original/MusicNet_Original/1735.wav',\n",
       "  'MusicNet_Original/MusicNet_Original/1739.wav',\n",
       "  'MusicNet_Original/MusicNet_Original/1742.wav',\n",
       "  'MusicNet_Original/MusicNet_Original/1749.wav',\n",
       "  'MusicNet_Original/MusicNet_Original/1750.wav',\n",
       "  'MusicNet_Original/MusicNet_Original/1751.wav',\n",
       "  'MusicNet_Original/MusicNet_Original/1752.wav',\n",
       "  'MusicNet_Original/MusicNet_Original/1755.wav',\n",
       "  'MusicNet_Original/MusicNet_Original/1756.wav',\n",
       "  'MusicNet_Original/MusicNet_Original/1757.wav',\n",
       "  'MusicNet_Original/MusicNet_Original/1758.wav',\n",
       "  'MusicNet_Original/MusicNet_Original/1759.wav',\n",
       "  'MusicNet_Original/MusicNet_Original/1760.wav',\n",
       "  'MusicNet_Original/MusicNet_Original/1763.wav',\n",
       "  'MusicNet_Original/MusicNet_Original/1764.wav',\n",
       "  'MusicNet_Original/MusicNet_Original/1765.wav',\n",
       "  'MusicNet_Original/MusicNet_Original/1766.wav',\n",
       "  'MusicNet_Original/MusicNet_Original/1768.wav',\n",
       "  'MusicNet_Original/MusicNet_Original/1771.wav',\n",
       "  'MusicNet_Original/MusicNet_Original/1772.wav',\n",
       "  'MusicNet_Original/MusicNet_Original/1773.wav',\n",
       "  'MusicNet_Original/MusicNet_Original/1775.wav',\n",
       "  'MusicNet_Original/MusicNet_Original/1776.wav',\n",
       "  'MusicNet_Original/MusicNet_Original/1777.wav'],\n",
       " 'Mozart': ['MusicNet_Original/MusicNet_Original/1788.wav',\n",
       "  'MusicNet_Original/MusicNet_Original/1789.wav',\n",
       "  'MusicNet_Original/MusicNet_Original/1790.wav',\n",
       "  'MusicNet_Original/MusicNet_Original/1791.wav',\n",
       "  'MusicNet_Original/MusicNet_Original/1792.wav',\n",
       "  'MusicNet_Original/MusicNet_Original/1793.wav',\n",
       "  'MusicNet_Original/MusicNet_Original/1805.wav',\n",
       "  'MusicNet_Original/MusicNet_Original/1807.wav',\n",
       "  'MusicNet_Original/MusicNet_Original/1811.wav',\n",
       "  'MusicNet_Original/MusicNet_Original/1812.wav',\n",
       "  'MusicNet_Original/MusicNet_Original/1813.wav',\n",
       "  'MusicNet_Original/MusicNet_Original/1817.wav',\n",
       "  'MusicNet_Original/MusicNet_Original/1818.wav',\n",
       "  'MusicNet_Original/MusicNet_Original/1819.wav',\n",
       "  'MusicNet_Original/MusicNet_Original/1822.wav',\n",
       "  'MusicNet_Original/MusicNet_Original/1824.wav',\n",
       "  'MusicNet_Original/MusicNet_Original/1828.wav',\n",
       "  'MusicNet_Original/MusicNet_Original/1829.wav',\n",
       "  'MusicNet_Original/MusicNet_Original/1835.wav',\n",
       "  'MusicNet_Original/MusicNet_Original/1859.wav',\n",
       "  'MusicNet_Original/MusicNet_Original/1872.wav',\n",
       "  'MusicNet_Original/MusicNet_Original/1873.wav',\n",
       "  'MusicNet_Original/MusicNet_Original/1876.wav',\n",
       "  'MusicNet_Original/MusicNet_Original/1893.wav'],\n",
       " 'Brahms': ['MusicNet_Original/MusicNet_Original/2112.wav',\n",
       "  'MusicNet_Original/MusicNet_Original/2113.wav',\n",
       "  'MusicNet_Original/MusicNet_Original/2114.wav',\n",
       "  'MusicNet_Original/MusicNet_Original/2116.wav',\n",
       "  'MusicNet_Original/MusicNet_Original/2117.wav',\n",
       "  'MusicNet_Original/MusicNet_Original/2118.wav',\n",
       "  'MusicNet_Original/MusicNet_Original/2119.wav',\n",
       "  'MusicNet_Original/MusicNet_Original/2127.wav',\n",
       "  'MusicNet_Original/MusicNet_Original/2131.wav',\n",
       "  'MusicNet_Original/MusicNet_Original/2138.wav',\n",
       "  'MusicNet_Original/MusicNet_Original/2140.wav',\n",
       "  'MusicNet_Original/MusicNet_Original/2147.wav',\n",
       "  'MusicNet_Original/MusicNet_Original/2148.wav',\n",
       "  'MusicNet_Original/MusicNet_Original/2149.wav',\n",
       "  'MusicNet_Original/MusicNet_Original/2150.wav',\n",
       "  'MusicNet_Original/MusicNet_Original/2151.wav',\n",
       "  'MusicNet_Original/MusicNet_Original/2154.wav',\n",
       "  'MusicNet_Original/MusicNet_Original/2155.wav',\n",
       "  'MusicNet_Original/MusicNet_Original/2156.wav',\n",
       "  'MusicNet_Original/MusicNet_Original/2157.wav',\n",
       "  'MusicNet_Original/MusicNet_Original/2158.wav',\n",
       "  'MusicNet_Original/MusicNet_Original/2159.wav',\n",
       "  'MusicNet_Original/MusicNet_Original/2160.wav',\n",
       "  'MusicNet_Original/MusicNet_Original/2161.wav']}"
      ]
     },
     "execution_count": 35,
     "metadata": {},
     "output_type": "execute_result"
    }
   ],
   "source": [
    "df = pd.read_csv(\"MusicNet_Original/musicnet_original_metadata.csv\", encoding=\"ISO-8859-1\")\n",
    "\n",
    "#all composers with more than 10 recordings in the dataset(from excel analaysis)\n",
    "composer_list = ['Beethoven', 'Bach', 'Schubert', 'Mozart', 'Brahms']\n",
    "\n",
    "mydict={}\n",
    "for composer in composer_list:\n",
    "    #print(df.loc[df['composer'] == composer])\n",
    "    mydf = df.loc[df['composer'] == composer]\n",
    "    #print(mydf['id'])\n",
    "    #print(str(\"MusicNet_Original/MusicNet_Original\"+str(mydf['id'])+\".wav\"))\n",
    "    mydf['path']=\"MusicNet_Original/MusicNet_Original/\"+mydf['id'].astype(str)+'.wav'\n",
    "    #print(mydf.head())\n",
    "    list_of_path=list(mydf['path'])\n",
    "    mydict[composer]=list_of_path\n",
    "mydict"
   ]
  },
  {
   "cell_type": "code",
   "execution_count": 37,
   "id": "37bba331-84ef-409b-bb42-67d5e4ca1872",
   "metadata": {},
   "outputs": [],
   "source": [
    "from transformers import AutoFeatureExtractor\n",
    "\n",
    "model_id = \"ntu-spml/distilhubert\"\n",
    "feature_extractor = AutoFeatureExtractor.from_pretrained(\n",
    "    model_id, do_normalize=True, return_attention_mask=True\n",
    ")"
   ]
  },
  {
   "cell_type": "code",
   "execution_count": 38,
   "id": "d21f922a-1da3-4e84-bc5c-85bde6641d0a",
   "metadata": {},
   "outputs": [
    {
     "data": {
      "application/vnd.jupyter.widget-view+json": {
       "model_id": "c1d751e02dc0443d9d6afd92baad2772",
       "version_major": 2,
       "version_minor": 0
      },
      "text/plain": [
       "Saving the dataset (0/40 shards):   0%|          | 0/302 [00:00<?, ? examples/s]"
      ]
     },
     "metadata": {},
     "output_type": "display_data"
    },
    {
     "name": "stdout",
     "output_type": "stream",
     "text": [
      "Dataset({\n",
      "    features: ['audio', 'label'],\n",
      "    num_rows: 302\n",
      "})\n"
     ]
    }
   ],
   "source": [
    "sampling_rate = feature_extractor.sampling_rate\n",
    "# Creating dataset with labels\n",
    "data = {\n",
    "    \"audio\": [],\n",
    "    \"label\": []\n",
    "}\n",
    "\n",
    "for i in range(len(composer_list)):\n",
    "    composer = composer_list[i]\n",
    "    for audio_file in mydict[composer]:\n",
    "        data[\"audio\"].append(audio_file)  # Adding audio files\n",
    "        data[\"label\"].append(i)  # Assigning composer id as label\n",
    "\n",
    "# Creating Dataset\n",
    "dataset = Dataset.from_dict(data).cast_column(\"audio\", Audio(sampling_rate=sampling_rate))\n",
    "dataset = DatasetDict({\"train\": dataset})\n",
    "dataset.save_to_disk(\"tempDataset\") #since we are creating data from in-memory data, we save the dataset to disk to avoid filling up the RAM\n",
    "\n",
    "# Check the first entry\n",
    "print(dataset['train'])"
   ]
  },
  {
   "cell_type": "code",
   "execution_count": 39,
   "id": "6e3988be-dbdf-4e0e-af1c-c81defa2bf47",
   "metadata": {},
   "outputs": [
    {
     "name": "stdout",
     "output_type": "stream",
     "text": [
      "{'0': 'Beethoven', '1': 'Bach', '2': 'Schubert', '3': 'Mozart', '4': 'Brahms'} \n",
      "\n",
      " {'Beethoven': '0', 'Bach': '1', 'Schubert': '2', 'Mozart': '3', 'Brahms': '4'}\n",
      "Beethoven\n",
      "0\n"
     ]
    }
   ],
   "source": [
    "label2id, id2label = dict(), dict()\n",
    "for i, label in enumerate(composer_list):\n",
    "    label2id[label] = str(i)\n",
    "    id2label[str(i)] = label\n",
    "\n",
    "print(id2label, '\\n\\n', label2id)\n",
    "print(id2label['0'])\n",
    "print(label2id['Beethoven'])"
   ]
  },
  {
   "cell_type": "code",
   "execution_count": 40,
   "id": "29fc58ca-9d9e-417c-9a93-dfb24847c7b9",
   "metadata": {},
   "outputs": [
    {
     "data": {
      "application/vnd.jupyter.widget-view+json": {
       "model_id": "a12651d4b164476f8696e84318ecf2d5",
       "version_major": 2,
       "version_minor": 0
      },
      "text/plain": [
       "Loading dataset from disk:   0%|          | 0/40 [00:00<?, ?it/s]"
      ]
     },
     "metadata": {},
     "output_type": "display_data"
    },
    {
     "data": {
      "application/vnd.jupyter.widget-view+json": {
       "model_id": "e502b3dd40064d24b878653448891541",
       "version_major": 2,
       "version_minor": 0
      },
      "text/plain": [
       "Map:   0%|          | 0/302 [00:00<?, ? examples/s]"
      ]
     },
     "metadata": {},
     "output_type": "display_data"
    }
   ],
   "source": [
    "import math\n",
    "max_duration = 3 \n",
    "\n",
    "def subdivide_function(entry):\n",
    "    audio_array = entry[\"audio\"][0]['array']\n",
    "    audio_label = entry['label'][0]\n",
    "    #print(entry)\n",
    "    #print(audio_label)\n",
    "    sampling_rate = feature_extractor.sampling_rate\n",
    "    segment_length = int(sampling_rate * max_duration)\n",
    "    \n",
    "    #print(len(audio_array))\n",
    "    num_segments = math.ceil(len(audio_array) / segment_length)\n",
    "    chunks = []\n",
    "    labels = []\n",
    "    for i in range(num_segments):\n",
    "        start_idx = i * segment_length\n",
    "        end_idx = start_idx + segment_length\n",
    "        if end_idx >= len(audio_array):\n",
    "            segment = audio_array[start_idx:] #meaning last segment already\n",
    "        else:\n",
    "            segment = audio_array[start_idx:end_idx] #meaning still in the middle\n",
    "        #print(segment)\n",
    "        labels.append(audio_label)\n",
    "        chunks.append(segment)\n",
    "\n",
    "    return {\"labels\": labels,\n",
    "            \"chunks\": chunks}\n",
    "    \n",
    "dataset = DatasetDict.load_from_disk(\"tempDataset\")\n",
    "chunked_dataset = dataset.map(subdivide_function, batch_size = 1, batched=True, remove_columns=['audio', 'label'])"
   ]
  },
  {
   "cell_type": "code",
   "execution_count": 15,
   "id": "32246fcc-0169-477a-9573-d98a7bb34f5e",
   "metadata": {},
   "outputs": [
    {
     "data": {
      "text/plain": [
       "DatasetDict({\n",
       "    train: Dataset({\n",
       "        features: ['labels', 'chunks'],\n",
       "        num_rows: 50768\n",
       "    })\n",
       "})"
      ]
     },
     "execution_count": 15,
     "metadata": {},
     "output_type": "execute_result"
    }
   ],
   "source": [
    "chunked_dataset"
   ]
  },
  {
   "cell_type": "code",
   "execution_count": 16,
   "id": "0219baa6-bfb4-41dd-a09f-7b5b542b4ffc",
   "metadata": {},
   "outputs": [],
   "source": [
    "chunked_dataset = chunked_dataset[\"train\"].train_test_split(seed=42, shuffle=True, test_size=0.1)"
   ]
  },
  {
   "cell_type": "code",
   "execution_count": 17,
   "id": "8de261a9-7641-4823-87d5-a97cee7c8ce5",
   "metadata": {},
   "outputs": [
    {
     "data": {
      "text/plain": [
       "DatasetDict({\n",
       "    train: Dataset({\n",
       "        features: ['labels', 'chunks'],\n",
       "        num_rows: 45691\n",
       "    })\n",
       "    test: Dataset({\n",
       "        features: ['labels', 'chunks'],\n",
       "        num_rows: 5077\n",
       "    })\n",
       "})"
      ]
     },
     "execution_count": 17,
     "metadata": {},
     "output_type": "execute_result"
    }
   ],
   "source": [
    "chunked_dataset"
   ]
  },
  {
   "cell_type": "code",
   "execution_count": 18,
   "id": "ee2d4be5-7183-438e-9150-5e1aabc611dc",
   "metadata": {},
   "outputs": [
    {
     "data": {
      "application/vnd.jupyter.widget-view+json": {
       "model_id": "f7dd683cd8e04526b22c710322a791ad",
       "version_major": 2,
       "version_minor": 0
      },
      "text/plain": [
       "Map:   0%|          | 0/45691 [00:00<?, ? examples/s]"
      ]
     },
     "metadata": {},
     "output_type": "display_data"
    },
    {
     "data": {
      "application/vnd.jupyter.widget-view+json": {
       "model_id": "f32227d5e68241068b952c824fc44789",
       "version_major": 2,
       "version_minor": 0
      },
      "text/plain": [
       "Map:   0%|          | 0/5077 [00:00<?, ? examples/s]"
      ]
     },
     "metadata": {},
     "output_type": "display_data"
    },
    {
     "data": {
      "text/plain": [
       "DatasetDict({\n",
       "    train: Dataset({\n",
       "        features: ['label', 'input_values', 'attention_mask'],\n",
       "        num_rows: 45691\n",
       "    })\n",
       "    test: Dataset({\n",
       "        features: ['label', 'input_values', 'attention_mask'],\n",
       "        num_rows: 5077\n",
       "    })\n",
       "})"
      ]
     },
     "execution_count": 18,
     "metadata": {},
     "output_type": "execute_result"
    }
   ],
   "source": [
    "def preprocess_function(examples):\n",
    "    audio_arrays = examples['chunks']\n",
    "    inputs = feature_extractor(\n",
    "        audio_arrays,\n",
    "        sampling_rate=feature_extractor.sampling_rate,\n",
    "        max_length=int(feature_extractor.sampling_rate * max_duration),\n",
    "        truncation=True,\n",
    "        return_attention_mask=True,\n",
    "    )\n",
    "    return inputs\n",
    "\n",
    "dataset_encoded = chunked_dataset.map(\n",
    "    preprocess_function,\n",
    "    remove_columns=[\"chunks\"],\n",
    "    batched=True,\n",
    "    batch_size=100,\n",
    "    num_proc=1,\n",
    ")\n",
    "dataset_encoded = dataset_encoded.rename_column(\"labels\", \"label\")\n",
    "dataset_encoded"
   ]
  },
  {
   "cell_type": "code",
   "execution_count": 19,
   "id": "8a58479d-5485-43b7-ab1f-93f7191b3701",
   "metadata": {},
   "outputs": [
    {
     "name": "stderr",
     "output_type": "stream",
     "text": [
      "Some weights of HubertForSequenceClassification were not initialized from the model checkpoint at ntu-spml/distilhubert and are newly initialized: ['classifier.bias', 'classifier.weight', 'projector.bias', 'projector.weight']\n",
      "You should probably TRAIN this model on a down-stream task to be able to use it for predictions and inference.\n"
     ]
    }
   ],
   "source": [
    "from transformers import AutoModelForAudioClassification\n",
    "\n",
    "num_labels = len(id2label)\n",
    "\n",
    "model = AutoModelForAudioClassification.from_pretrained(\n",
    "    model_id,\n",
    "    num_labels=num_labels,\n",
    "    label2id=label2id,\n",
    "    id2label=id2label,\n",
    ")"
   ]
  },
  {
   "cell_type": "code",
   "execution_count": 20,
   "id": "efcf3d2a-12e6-48cc-a539-5a9d68c1d510",
   "metadata": {},
   "outputs": [
    {
     "name": "stderr",
     "output_type": "stream",
     "text": [
      "C:\\Users\\young\\anaconda3\\envs\\ClassicalMusicClassify\\Lib\\site-packages\\transformers\\training_args.py:1575: FutureWarning: `evaluation_strategy` is deprecated and will be removed in version 4.46 of 🤗 Transformers. Use `eval_strategy` instead\n",
      "  warnings.warn(\n"
     ]
    }
   ],
   "source": [
    "from transformers import TrainingArguments\n",
    "\n",
    "model_name = model_id.split(\"/\")[-1]\n",
    "batch_size = 4\n",
    "gradient_accumulation_steps = 1\n",
    "num_train_epochs = 10\n",
    "\n",
    "training_args = TrainingArguments(\n",
    "    f\"{model_name}-finetuned-dataset\",\n",
    "    evaluation_strategy=\"epoch\",\n",
    "    save_strategy=\"epoch\",\n",
    "    learning_rate=5e-5,\n",
    "    per_device_train_batch_size=batch_size,\n",
    "    gradient_accumulation_steps=gradient_accumulation_steps,\n",
    "    per_device_eval_batch_size=batch_size,\n",
    "    num_train_epochs=num_train_epochs,\n",
    "    warmup_ratio=0.1,\n",
    "    logging_steps=5,\n",
    "    load_best_model_at_end=True,\n",
    "    metric_for_best_model=\"accuracy\",\n",
    "    fp16=True,\n",
    "    push_to_hub=False,\n",
    ")"
   ]
  },
  {
   "cell_type": "code",
   "execution_count": 21,
   "id": "0cba1259-32ff-48de-900f-24a7f4e8ab22",
   "metadata": {},
   "outputs": [],
   "source": [
    "import evaluate\n",
    "import numpy as np\n",
    "\n",
    "metric = evaluate.load(\"accuracy\")\n",
    "\n",
    "\n",
    "def compute_metrics(eval_pred):\n",
    "    \"\"\"Computes accuracy on a batch of predictions\"\"\"\n",
    "    predictions = np.argmax(eval_pred.predictions, axis=1)\n",
    "    return metric.compute(predictions=predictions, references=eval_pred.label_ids)"
   ]
  },
  {
   "cell_type": "code",
   "execution_count": 22,
   "id": "68ac5f16-19aa-4c8e-b267-5f2ff278272a",
   "metadata": {},
   "outputs": [
    {
     "name": "stderr",
     "output_type": "stream",
     "text": [
      "C:\\Users\\young\\AppData\\Local\\Temp\\ipykernel_51176\\1161299834.py:3: FutureWarning: `tokenizer` is deprecated and will be removed in version 5.0.0 for `Trainer.__init__`. Use `processing_class` instead.\n",
      "  trainer = Trainer(\n"
     ]
    },
    {
     "data": {
      "text/html": [
       "\n",
       "    <div>\n",
       "      \n",
       "      <progress value='114230' max='114230' style='width:300px; height:20px; vertical-align: middle;'></progress>\n",
       "      [114230/114230 3:25:23, Epoch 10/10]\n",
       "    </div>\n",
       "    <table border=\"1\" class=\"dataframe\">\n",
       "  <thead>\n",
       " <tr style=\"text-align: left;\">\n",
       "      <th>Epoch</th>\n",
       "      <th>Training Loss</th>\n",
       "      <th>Validation Loss</th>\n",
       "      <th>Accuracy</th>\n",
       "    </tr>\n",
       "  </thead>\n",
       "  <tbody>\n",
       "    <tr>\n",
       "      <td>1</td>\n",
       "      <td>0.972800</td>\n",
       "      <td>0.882707</td>\n",
       "      <td>0.712429</td>\n",
       "    </tr>\n",
       "    <tr>\n",
       "      <td>2</td>\n",
       "      <td>1.245200</td>\n",
       "      <td>0.901450</td>\n",
       "      <td>0.775458</td>\n",
       "    </tr>\n",
       "    <tr>\n",
       "      <td>3</td>\n",
       "      <td>0.407400</td>\n",
       "      <td>0.683199</td>\n",
       "      <td>0.836912</td>\n",
       "    </tr>\n",
       "    <tr>\n",
       "      <td>4</td>\n",
       "      <td>0.523800</td>\n",
       "      <td>0.628899</td>\n",
       "      <td>0.892259</td>\n",
       "    </tr>\n",
       "    <tr>\n",
       "      <td>5</td>\n",
       "      <td>0.001300</td>\n",
       "      <td>0.626021</td>\n",
       "      <td>0.896396</td>\n",
       "    </tr>\n",
       "    <tr>\n",
       "      <td>6</td>\n",
       "      <td>0.476800</td>\n",
       "      <td>0.571036</td>\n",
       "      <td>0.918653</td>\n",
       "    </tr>\n",
       "    <tr>\n",
       "      <td>7</td>\n",
       "      <td>0.000600</td>\n",
       "      <td>0.595652</td>\n",
       "      <td>0.913926</td>\n",
       "    </tr>\n",
       "    <tr>\n",
       "      <td>8</td>\n",
       "      <td>0.000000</td>\n",
       "      <td>0.641279</td>\n",
       "      <td>0.922395</td>\n",
       "    </tr>\n",
       "    <tr>\n",
       "      <td>9</td>\n",
       "      <td>0.000000</td>\n",
       "      <td>0.604442</td>\n",
       "      <td>0.931062</td>\n",
       "    </tr>\n",
       "    <tr>\n",
       "      <td>10</td>\n",
       "      <td>0.000700</td>\n",
       "      <td>0.564171</td>\n",
       "      <td>0.936971</td>\n",
       "    </tr>\n",
       "  </tbody>\n",
       "</table><p>"
      ],
      "text/plain": [
       "<IPython.core.display.HTML object>"
      ]
     },
     "metadata": {},
     "output_type": "display_data"
    }
   ],
   "source": [
    "from transformers import Trainer\n",
    "\n",
    "trainer = Trainer(\n",
    "    model,\n",
    "    training_args,\n",
    "    train_dataset=dataset_encoded[\"train\"].with_format(\"torch\"),\n",
    "    eval_dataset=dataset_encoded[\"test\"].with_format(\"torch\"),\n",
    "    tokenizer=feature_extractor,\n",
    "    compute_metrics=compute_metrics,\n",
    ")\n",
    "\n",
    "trainer.train()\n",
    "trainer.save_model(\"ComposerClassifyModel\")"
   ]
  },
  {
   "cell_type": "code",
   "execution_count": null,
   "id": "ae70f64d-9fe6-46c7-b317-8c61f4fdedae",
   "metadata": {},
   "outputs": [],
   "source": []
  },
  {
   "cell_type": "code",
   "execution_count": null,
   "id": "e22948d7-a6bd-44a4-bf93-8c463895be90",
   "metadata": {},
   "outputs": [],
   "source": []
  }
 ],
 "metadata": {
  "kernelspec": {
   "display_name": "Python 3 (ipykernel)",
   "language": "python",
   "name": "python3"
  },
  "language_info": {
   "codemirror_mode": {
    "name": "ipython",
    "version": 3
   },
   "file_extension": ".py",
   "mimetype": "text/x-python",
   "name": "python",
   "nbconvert_exporter": "python",
   "pygments_lexer": "ipython3",
   "version": "3.11.10"
  }
 },
 "nbformat": 4,
 "nbformat_minor": 5
}
